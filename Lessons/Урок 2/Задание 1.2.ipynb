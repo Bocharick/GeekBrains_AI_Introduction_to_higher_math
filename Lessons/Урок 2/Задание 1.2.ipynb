{
 "cells": [
  {
   "cell_type": "code",
   "execution_count": 1,
   "metadata": {},
   "outputs": [],
   "source": [
    "import numpy as np\n",
    "import pandas as pd\n",
    "import matplotlib.pyplot as plt\n",
    "%matplotlib inline\n",
    "%config InlineBackend.figure_format = 'svg'\n",
    "import seaborn as sns"
   ]
  },
  {
   "cell_type": "code",
   "execution_count": 2,
   "metadata": {},
   "outputs": [
    {
     "name": "stdout",
     "output_type": "stream",
     "text": [
      "Введиты размерность вектора: 3\n"
     ]
    }
   ],
   "source": [
    "vec_len = int(input(\"Введиты размерность вектора: \"))"
   ]
  },
  {
   "cell_type": "code",
   "execution_count": 3,
   "metadata": {},
   "outputs": [
    {
     "name": "stdout",
     "output_type": "stream",
     "text": [
      "Введите координаты вектора X\n",
      "Введите X[0]: 20\n",
      "Введите X[1]: 20\n",
      "Введите X[2]: 0\n"
     ]
    }
   ],
   "source": [
    "X = [0.0] * vec_len\n",
    "print(\"Введите координаты вектора X\")\n",
    "for i in range(vec_len):\n",
    "    X[i] = float(input(\"Введите X[%d]: \" %i))\n",
    "X = np.array(X)"
   ]
  },
  {
   "cell_type": "code",
   "execution_count": 4,
   "metadata": {},
   "outputs": [
    {
     "name": "stdout",
     "output_type": "stream",
     "text": [
      "Длина вектора X(20.0; 20.0; 0.0): 28.284271247461902\n"
     ]
    }
   ],
   "source": [
    "print(\"Длина вектора X(\" + \"; \".join(str(x) for x in X) + \"):\", np.linalg.norm(X))"
   ]
  }
 ],
 "metadata": {
  "kernelspec": {
   "display_name": "Python 3",
   "language": "python",
   "name": "python3"
  },
  "language_info": {
   "codemirror_mode": {
    "name": "ipython",
    "version": 3
   },
   "file_extension": ".py",
   "mimetype": "text/x-python",
   "name": "python",
   "nbconvert_exporter": "python",
   "pygments_lexer": "ipython3",
   "version": "3.7.1"
  }
 },
 "nbformat": 4,
 "nbformat_minor": 2
}
