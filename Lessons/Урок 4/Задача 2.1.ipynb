{
 "cells": [
  {
   "cell_type": "markdown",
   "metadata": {},
   "source": [
    "**Напишите код, проверяющий любую из теорем сложения или умножения вероятности на примере подбрасывания монетки.**"
   ]
  },
  {
   "cell_type": "markdown",
   "metadata": {},
   "source": [
    "**Колесо рулетки состоит из 37 ячеек, Ноль (зеро) зеленая, и дальше по 18 штук красных и черных (номера в данном случае не важны). Какова вероятность сделать сто бросков так чтобы зеро было только один раз (порядок не важен).**"
   ]
  },
  {
   "cell_type": "code",
   "execution_count": 1,
   "metadata": {},
   "outputs": [],
   "source": [
    "# Вероятность Зеро\n",
    "P_0 = 1/37\n",
    "# Вероятность Красного\n",
    "P_red = 18/37\n",
    "# Вероятность Черного\n",
    "P_black = 18/37\n",
    "\n",
    "\n",
    "print(\"Вероятность выпадения _НЕ_ зеро (красное или черное):\", P_red + P_black)\n",
    "print(\"Вероятность выпадения _НЕ_ зеро 99 раз:\", (P_red + P_black)**99)\n",
    "print(\"Вероятность выпадения с первого броска зеро, а затем с 99 бросков _НЕ_ зеро:\", P_0 * (P_red + P_black)**99)\n",
    "P_task = 100 * (P_0 * (P_red + P_black)**99)\n",
    "print(\"Так как нам не важно каким броском выпадет это единственное зеро, имеем такую итоговую вероятность:\", P_task)"
   ]
  },
  {
   "cell_type": "code",
   "execution_count": null,
   "metadata": {},
   "outputs": [],
   "source": []
  },
  {
   "cell_type": "code",
   "execution_count": null,
   "metadata": {},
   "outputs": [],
   "source": []
  }
 ],
 "metadata": {
  "kernelspec": {
   "display_name": "Python 3",
   "language": "python",
   "name": "python3"
  },
  "language_info": {
   "codemirror_mode": {
    "name": "ipython",
    "version": 3
   },
   "file_extension": ".py",
   "mimetype": "text/x-python",
   "name": "python",
   "nbconvert_exporter": "python",
   "pygments_lexer": "ipython3",
   "version": "3.7.1"
  }
 },
 "nbformat": 4,
 "nbformat_minor": 2
}
