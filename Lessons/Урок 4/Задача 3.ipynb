{
 "cells": [
  {
   "cell_type": "markdown",
   "metadata": {},
   "source": [
    "**3.1 Дополните код Монте-Карло последовательности независимых испытаний расчетом соответствующих вероятностей (через биномиальное распределение) и сравните результаты.**    \n",
    "\n"
   ]
  },
  {
   "cell_type": "code",
   "execution_count": 1,
   "metadata": {},
   "outputs": [],
   "source": [
    "import numpy as np\n",
    "import itertools"
   ]
  },
  {
   "cell_type": "code",
   "execution_count": 2,
   "metadata": {},
   "outputs": [
    {
     "name": "stdout",
     "output_type": "stream",
     "text": [
      "1125323 3000000 0.3751076666666667\n"
     ]
    }
   ],
   "source": [
    "k, n = 0, 3000000\n",
    "a = np.random.randint(0, 2, n)\n",
    "b = np.random.randint(0, 2, n)\n",
    "c = np.random.randint(0, 2, n)\n",
    "d = np.random.randint(0, 2, n)\n",
    "x = a + b + c + d\n",
    "# print(a,b,c,d,x,sep=\"\\n\")\n",
    "\n",
    "for i in range(0, n):\n",
    "    if x[i] == 2:\n",
    "        k += 1\n",
    "print(k, n, k/n)"
   ]
  },
  {
   "cell_type": "markdown",
   "metadata": {},
   "source": [
    "**P_n_k = C_n_k * p^k * q^(n-k)**  \n",
    "**C_n_k = n!/(k!*(n-k)!)**"
   ]
  },
  {
   "cell_type": "code",
   "execution_count": 3,
   "metadata": {},
   "outputs": [
    {
     "name": "stdout",
     "output_type": "stream",
     "text": [
      "C_n_k: 6.0\n"
     ]
    }
   ],
   "source": [
    "def count_C_n_k(n, k):\n",
    "    return np.math.factorial(n) / (np.math.factorial(k) * np.math.factorial(n - k))\n",
    "C_n_k = count_C_n_k(4, 2)\n",
    "print(\"C_n_k:\", C_n_k)"
   ]
  },
  {
   "cell_type": "code",
   "execution_count": 4,
   "metadata": {},
   "outputs": [
    {
     "name": "stdout",
     "output_type": "stream",
     "text": [
      "Вероятность выпадения 2 успехов на 4 испытаниях (по формуле Бернулли): 0.375\n"
     ]
    }
   ],
   "source": [
    "def count_P_n_k(n, k, p):\n",
    "    return count_C_n_k(n, k) * (p)**k * (1 - p)**(n - k)\n",
    "P_n_k = count_P_n_k(4, 2, 1/2)\n",
    "print(\"Вероятность выпадения %d успехов на %d испытаниях (по формуле Бернулли):\" % (2, 4), P_n_k)"
   ]
  },
  {
   "cell_type": "markdown",
   "metadata": {},
   "source": [
    "**3.2 Повторите расчеты, взяв другие значения n и k.**"
   ]
  },
  {
   "cell_type": "code",
   "execution_count": 5,
   "metadata": {},
   "outputs": [
    {
     "name": "stdout",
     "output_type": "stream",
     "text": [
      "Вероятность выпадения 3 успехов на 15 испытаниях (по формуле Бернулли): 0.013885498046875\n"
     ]
    }
   ],
   "source": [
    "n2 = 15\n",
    "k2 = 3\n",
    "P_n_k_2 = count_P_n_k(n2, k2, 1/2)\n",
    "print(\"Вероятность выпадения %d успехов на %d испытаниях (по формуле Бернулли):\" % (k2, n2), P_n_k_2)"
   ]
  },
  {
   "cell_type": "code",
   "execution_count": null,
   "metadata": {},
   "outputs": [],
   "source": []
  },
  {
   "cell_type": "code",
   "execution_count": null,
   "metadata": {},
   "outputs": [],
   "source": []
  },
  {
   "cell_type": "code",
   "execution_count": 6,
   "metadata": {},
   "outputs": [
    {
     "name": "stdout",
     "output_type": "stream",
     "text": [
      "000\n",
      "001\n",
      "002\n",
      "010\n",
      "011\n",
      "012\n",
      "020\n",
      "021\n",
      "022\n",
      "100\n",
      "101\n",
      "102\n",
      "110\n",
      "111\n",
      "112\n",
      "120\n",
      "121\n",
      "122\n",
      "200\n",
      "201\n",
      "202\n",
      "210\n",
      "211\n",
      "212\n",
      "220\n",
      "221\n",
      "222\n"
     ]
    }
   ],
   "source": [
    "for p in itertools.product(\"012\", repeat=3):\n",
    "    print(\"\".join(p))"
   ]
  }
 ],
 "metadata": {
  "kernelspec": {
   "display_name": "Python 3",
   "language": "python",
   "name": "python3"
  },
  "language_info": {
   "codemirror_mode": {
    "name": "ipython",
    "version": 3
   },
   "file_extension": ".py",
   "mimetype": "text/x-python",
   "name": "python",
   "nbconvert_exporter": "python",
   "pygments_lexer": "ipython3",
   "version": "3.7.1"
  }
 },
 "nbformat": 4,
 "nbformat_minor": 2
}
