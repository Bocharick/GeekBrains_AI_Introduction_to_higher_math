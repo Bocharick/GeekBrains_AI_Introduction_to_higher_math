{
 "cells": [
  {
   "cell_type": "code",
   "execution_count": 1,
   "metadata": {},
   "outputs": [],
   "source": [
    "import time\n",
    "import numpy as np\n",
    "np.random.seed(int(time.time()))"
   ]
  },
  {
   "cell_type": "code",
   "execution_count": 2,
   "metadata": {},
   "outputs": [],
   "source": [
    "black = (2, 4, 6, 8, 10, 11, 13, 15, 17, 20, 22, 24, 26, 28, 29, 31, 33, 35)\n",
    "red = (1, 3, 5, 7, 9, 12, 14, 16, 18, 19, 21, 23, 25, 27, 30, 32, 34, 36)"
   ]
  },
  {
   "cell_type": "code",
   "execution_count": 3,
   "metadata": {},
   "outputs": [
    {
     "name": "stdout",
     "output_type": "stream",
     "text": [
      "13 Черное\n",
      "19 Красное\n",
      "12 Красное\n",
      "8 Черное\n",
      "2 Черное\n",
      "36 Красное\n",
      "24 Черное\n",
      "32 Красное\n",
      "18 Красное\n",
      "3 Красное\n",
      "28 Черное\n",
      "25 Красное\n",
      "23 Красное\n",
      "11 Черное\n",
      "28 Черное\n",
      "17 Черное\n",
      "32 Красное\n",
      "32 Красное\n",
      "16 Красное\n",
      "4 Черное\n",
      "11 Черное\n",
      "7 Красное\n",
      "35 Черное\n",
      "1 Красное\n",
      "34 Красное\n",
      "19 Красное\n",
      "9 Красное\n",
      "25 Красное\n",
      "28 Черное\n",
      "6 Черное\n",
      "5 Красное\n",
      "36 Красное\n",
      "32 Красное\n",
      "26 Черное\n",
      "5 Красное\n",
      "35 Черное\n",
      "18 Красное\n",
      "30 Красное\n",
      "29 Черное\n",
      "8 Черное\n",
      "0 Зеро\n",
      "2 Черное\n",
      "36 Красное\n",
      "14 Красное\n",
      "27 Красное\n",
      "35 Черное\n",
      "16 Красное\n",
      "1 Красное\n",
      "22 Черное\n",
      "19 Красное\n"
     ]
    }
   ],
   "source": [
    "black_count = 0\n",
    "zero_count = 0\n",
    "red_count = 0\n",
    "total_tries = 10000000\n",
    "for i in range(total_tries):\n",
    "    val = np.random.randint(0, 37)\n",
    "    # Выводим на печать только первые 100 попыток\n",
    "    if i < 50:\n",
    "        print(val, \"Зеро\" if val == 0 else \"Черное\" if val in black else \"Красное\")\n",
    "    if val == 0:\n",
    "        zero_count += 1\n",
    "    elif val in black:\n",
    "        black_count += 1\n",
    "    else:\n",
    "        red_count += 1\n"
   ]
  },
  {
   "cell_type": "code",
   "execution_count": 4,
   "metadata": {},
   "outputs": [
    {
     "name": "stdout",
     "output_type": "stream",
     "text": [
      "Вероятность выпадения черного: 0.4864775\n",
      "Вероятность выпадения красного: 0.4864651\n",
      "Вероятность выпадения зеро: 0.0270574\n"
     ]
    }
   ],
   "source": [
    "print(\"Вероятность выпадения черного:\", black_count/total_tries)\n",
    "print(\"Вероятность выпадения красного:\", red_count/total_tries)\n",
    "print(\"Вероятность выпадения зеро:\", zero_count/total_tries)\n"
   ]
  },
  {
   "cell_type": "code",
   "execution_count": null,
   "metadata": {},
   "outputs": [],
   "source": []
  }
 ],
 "metadata": {
  "kernelspec": {
   "display_name": "Python 3",
   "language": "python",
   "name": "python3"
  },
  "language_info": {
   "codemirror_mode": {
    "name": "ipython",
    "version": 3
   },
   "file_extension": ".py",
   "mimetype": "text/x-python",
   "name": "python",
   "nbconvert_exporter": "python",
   "pygments_lexer": "ipython3",
   "version": "3.7.1"
  }
 },
 "nbformat": 4,
 "nbformat_minor": 2
}
