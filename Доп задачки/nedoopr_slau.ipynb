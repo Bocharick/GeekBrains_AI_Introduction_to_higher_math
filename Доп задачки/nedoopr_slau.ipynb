{
 "cells": [
  {
   "cell_type": "markdown",
   "metadata": {},
   "source": [
    "5. Предположим, мы взвешиваем  груши (х),  яблоки (y) и сливы (z).  \n",
    "При этом, у нас есть дополнительная априорная информация о предполагаемом весе фруктов:  \n",
    "предварительная оценка веса груши ~150, яблока у~100,  а сливы z~50?.  Оцените вес яблок, груш и слив:  \n",
    "**х+2у+5z=550**  \n",
    "**3х+у+3z=800**  \n"
   ]
  },
  {
   "cell_type": "code",
   "execution_count": 1,
   "metadata": {},
   "outputs": [],
   "source": [
    "import numpy as np\n",
    "import scipy.linalg"
   ]
  },
  {
   "cell_type": "code",
   "execution_count": 2,
   "metadata": {},
   "outputs": [
    {
     "name": "stdout",
     "output_type": "stream",
     "text": [
      "A:\n",
      "[[1 2 5]\n",
      " [3 1 3]]\n",
      "B:\n",
      "[550 800]\n",
      "X_0:\n",
      "[150 100  50]\n"
     ]
    }
   ],
   "source": [
    "A = np.array([[1,2,5],[3,1,3]])\n",
    "B = np.array([550, 800])\n",
    "X_0 = np.array([150, 100, 50])\n",
    "print(\"A:\", A, sep=\"\\n\")\n",
    "print(\"B:\", B, sep=\"\\n\")\n",
    "print(\"X_0:\", X_0, sep=\"\\n\")"
   ]
  },
  {
   "cell_type": "code",
   "execution_count": 3,
   "metadata": {},
   "outputs": [
    {
     "name": "stdout",
     "output_type": "stream",
     "text": [
      "B_0:\n",
      "[600 700]\n"
     ]
    }
   ],
   "source": [
    "B_0 = np.dot(A, X_0)\n",
    "print(\"B_0:\", B_0, sep=\"\\n\")"
   ]
  },
  {
   "cell_type": "code",
   "execution_count": 4,
   "metadata": {},
   "outputs": [
    {
     "name": "stdout",
     "output_type": "stream",
     "text": [
      "diff_B:\n",
      "[-50 100]\n"
     ]
    }
   ],
   "source": [
    "diff_B = B - B_0\n",
    "print(\"diff_B:\", diff_B, sep=\"\\n\")"
   ]
  },
  {
   "cell_type": "code",
   "execution_count": 5,
   "metadata": {},
   "outputs": [
    {
     "data": {
      "text/plain": [
       "(array([ 53.23529412, -11.17647059, -16.17647059]),\n",
       " array([], dtype=float64),\n",
       " 2,\n",
       " array([6.72625219, 1.93843532]))"
      ]
     },
     "execution_count": 5,
     "metadata": {},
     "output_type": "execute_result"
    }
   ],
   "source": [
    "diff_B_lstsq_solver = np.linalg.lstsq(A, diff_B, rcond=None)\n",
    "diff_B_lstsq_solver"
   ]
  },
  {
   "cell_type": "code",
   "execution_count": 6,
   "metadata": {},
   "outputs": [
    {
     "name": "stdout",
     "output_type": "stream",
     "text": [
      "X_s_volnoy:\n",
      "[ 53.23529412 -11.17647059 -16.17647059]\n"
     ]
    }
   ],
   "source": [
    "X_s_volnoy = diff_B_lstsq_solver[0]\n",
    "print(\"X_s_volnoy:\", X_s_volnoy, sep=\"\\n\")"
   ]
  },
  {
   "cell_type": "markdown",
   "metadata": {},
   "source": [
    "**X_s_volnoy = X - X_0**"
   ]
  },
  {
   "cell_type": "code",
   "execution_count": 7,
   "metadata": {},
   "outputs": [
    {
     "name": "stdout",
     "output_type": "stream",
     "text": [
      "X:\n",
      "[203.23529412  88.82352941  33.82352941]\n"
     ]
    }
   ],
   "source": [
    "X = X_s_volnoy + X_0\n",
    "print(\"X:\", X, sep=\"\\n\")"
   ]
  },
  {
   "cell_type": "code",
   "execution_count": null,
   "metadata": {},
   "outputs": [],
   "source": []
  },
  {
   "cell_type": "markdown",
   "metadata": {},
   "source": [
    "**Решение Анны:**"
   ]
  },
  {
   "cell_type": "code",
   "execution_count": 8,
   "metadata": {},
   "outputs": [
    {
     "name": "stdout",
     "output_type": "stream",
     "text": [
      "[196.76470588  11.17647059  66.17647059]\n",
      "[600 700]\n",
      "[-50 100]\n",
      "[ 53.23529412 -11.17647059 -16.17647059]\n",
      "[143.52941176  22.35294118  82.35294118]\n",
      "[203.23529412  88.82352941  33.82352941]\n"
     ]
    }
   ],
   "source": [
    "x0 = np.array([150, 100, 50])  \n",
    "\n",
    "a = np.array([[1, 2, 5], [3, 1, 3]])  \n",
    "b = np.array([550, 800])  \n",
    "  \n",
    "x = np.linalg.lstsq(a, b, rcond=None)  \n",
    "print(x[0])  \n",
    "  \n",
    "b0 = np.dot(a, x0)  \n",
    "print(b0)  \n",
    "  \n",
    "db = b - b0  \n",
    "print(db)  \n",
    "  \n",
    "dx = np.linalg.lstsq(a, db, rcond=None)  \n",
    "print(dx[0])  \n",
    "  \n",
    "X = x[0] - dx[0]  \n",
    "print(X)\n",
    "\n",
    "#А надо вот так:\n",
    "X = x0 + dx[0]  \n",
    "print(X)"
   ]
  },
  {
   "cell_type": "code",
   "execution_count": null,
   "metadata": {},
   "outputs": [],
   "source": []
  }
 ],
 "metadata": {
  "kernelspec": {
   "display_name": "Python 3",
   "language": "python",
   "name": "python3"
  },
  "language_info": {
   "codemirror_mode": {
    "name": "ipython",
    "version": 3
   },
   "file_extension": ".py",
   "mimetype": "text/x-python",
   "name": "python",
   "nbconvert_exporter": "python",
   "pygments_lexer": "ipython3",
   "version": "3.7.1"
  }
 },
 "nbformat": 4,
 "nbformat_minor": 2
}
